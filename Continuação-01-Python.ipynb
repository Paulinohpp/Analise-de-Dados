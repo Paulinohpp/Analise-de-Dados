{
  "nbformat": 4,
  "nbformat_minor": 0,
  "metadata": {
    "colab": {
      "provenance": [],
      "include_colab_link": true
    },
    "kernelspec": {
      "name": "python3",
      "display_name": "Python 3"
    },
    "language_info": {
      "name": "python"
    }
  },
  "cells": [
    {
      "cell_type": "markdown",
      "metadata": {
        "id": "view-in-github",
        "colab_type": "text"
      },
      "source": [
        "<a href=\"https://colab.research.google.com/github/Paulinohpp/Analise-de-Dados/blob/main/Continua%C3%A7%C3%A3o-01-Python.ipynb\" target=\"_parent\"><img src=\"https://colab.research.google.com/assets/colab-badge.svg\" alt=\"Open In Colab\"/></a>"
      ]
    },
    {
      "cell_type": "code",
      "execution_count": null,
      "metadata": {
        "id": "daS3ZGU81GwD"
      },
      "outputs": [],
      "source": [
        "# Ex1: primeira forma\n",
        "n = int(input('Digite um número inteiro: ')) #recebendo valor do usuário e o transformando em int\n",
        "if (n == 10): # (se n for igual a 10 faça alguma coisa)\n",
        "  print(f'{n} é igual a 10')\n",
        "elif n > 10:\n",
        "  print(f'{n} é maior que 10')\n",
        "else:\n",
        "  print(f'{n} é menor que 10')"
      ]
    },
    {
      "cell_type": "code",
      "source": [
        "# Ex2\n",
        "n1 = int(input('Informe um número inteiro: '))\n",
        "n2 = int(input('Informe outro número inteiro: '))\n",
        "\n",
        "if n1 > n2:\n",
        "  print(f'{n1} é o maior número informado')\n",
        "elif n1 < n2:\n",
        "  print(f'{n2} é o maior número informado')\n",
        "else:\n",
        "  print(f'{n1} é igual a {n2}')"
      ],
      "metadata": {
        "id": "jpJsFCT_DjcV"
      },
      "execution_count": null,
      "outputs": []
    },
    {
      "cell_type": "code",
      "source": [
        "# Ex 3\n",
        "n3 = float(input('Digite um número real: ')) #recebendo valor do usuário e o transformando em float\n",
        "if n3 >= 25 and n3 <= 200:\n",
        "  print(f'{n3} está dentro do intervalo fechado entre 25 e 200')\n",
        "else:\n",
        "  print(f'{n3} não está dentro do intervalo fechado entre 25 e 200')"
      ],
      "metadata": {
        "id": "cF4KmVCIH3cR"
      },
      "execution_count": null,
      "outputs": []
    },
    {
      "cell_type": "code",
      "source": [
        "# Ex4\n",
        "n4 = float(input('Digite um número real: ')) #recebendo valor do usuário e o transformando em float\n",
        "if n4 > 0:\n",
        "  print(f'{n4} é um número positivo')\n",
        "else:\n",
        "  pass # comando que se aplica para não ecerrar o código e sim passar para a próxima linha de código"
      ],
      "metadata": {
        "colab": {
          "base_uri": "https://localhost:8080/"
        },
        "id": "r9SYveQVK1oO",
        "outputId": "c0de45de-3959-49c6-fc6a-0b82572f66db"
      },
      "execution_count": null,
      "outputs": [
        {
          "output_type": "stream",
          "name": "stdout",
          "text": [
            "Digite um número real: 10\n",
            "10.0 é um número positivo\n"
          ]
        }
      ]
    },
    {
      "cell_type": "code",
      "source": [
        "# Off Topic\n",
        "n4 = float(input('Digite um número real: ')) #recebendo valor do usuário e o transformando em float\n",
        "if n4 > 0:\n",
        "  print(f'{n4} é um número positivo')\n",
        "elif n4 <0:\n",
        "    print(f'{n4} é um número negativo')\n",
        "else:\n",
        "  print(f'{n4} é um número neutro')"
      ],
      "metadata": {
        "colab": {
          "base_uri": "https://localhost:8080/"
        },
        "id": "sUE-dn8jORVF",
        "outputId": "a298972d-2d8a-457f-c0f4-833304d9b2d3"
      },
      "execution_count": null,
      "outputs": [
        {
          "output_type": "stream",
          "name": "stdout",
          "text": [
            "Digite um número real: -1\n",
            "-1.0 é um número negativo\n"
          ]
        }
      ]
    },
    {
      "cell_type": "code",
      "source": [
        "# Ex 5\n",
        "n5 = float(input('Informe um número: '))\n",
        "if n5 % 7 == 0:\n",
        "  print(f'{n5} é um número divisível por 7')\n",
        "else:\n",
        "  pass"
      ],
      "metadata": {
        "colab": {
          "base_uri": "https://localhost:8080/"
        },
        "id": "IlyMAgUhPIhO",
        "outputId": "09d4c0d3-9672-4f17-ddd3-27e9e2fc99c0"
      },
      "execution_count": null,
      "outputs": [
        {
          "output_type": "stream",
          "name": "stdout",
          "text": [
            "Informe um número: 7\n",
            "7.0 é um número divisível por 7\n"
          ]
        }
      ]
    },
    {
      "cell_type": "code",
      "source": [
        "# Ex6\n",
        "n6 = int(input('Informe um número: '))\n",
        "if n6 % 2 == 0:\n",
        "  print('O número digitado é par.')\n",
        "else:\n",
        "  print('O número digitado é ímpar.')"
      ],
      "metadata": {
        "colab": {
          "base_uri": "https://localhost:8080/"
        },
        "id": "2yx7jKHtT4K9",
        "outputId": "fb1901a7-2157-451e-c2b3-c30e3749abd0"
      },
      "execution_count": null,
      "outputs": [
        {
          "output_type": "stream",
          "name": "stdout",
          "text": [
            "Informe um número: 0\n",
            "O número digitado é par.\n"
          ]
        }
      ]
    },
    {
      "cell_type": "code",
      "source": [
        "# Ex6b\n",
        "n6 = int(input('Informe um número: '))\n",
        "if n6 % 2 == 0 and n6 != 0:\n",
        "  print(f'{n6} é um número par')\n",
        "elif n6 % 2 != 0 and n6 != 0:\n",
        "  print(f'{n6} é um número ímpar')\n",
        "else:\n",
        "  print(f'{n6} é zero e o professor viajou na maionese e não quer assumir como par e também é o número de casamentos futuros do professor')"
      ],
      "metadata": {
        "colab": {
          "base_uri": "https://localhost:8080/"
        },
        "id": "3s2twCVYUISb",
        "outputId": "0d3bb5a1-a9f2-4444-936a-8a3ec53f4a57"
      },
      "execution_count": null,
      "outputs": [
        {
          "output_type": "stream",
          "name": "stdout",
          "text": [
            "Informe um número: 0\n",
            "0 é zero e o professor viajou na maionese e não quer assumir como par e também é o número de casamentos futuros do professor\n"
          ]
        }
      ]
    },
    {
      "cell_type": "code",
      "source": [
        "# Ex7\n",
        "l = input('Digite uma letra: ')\n",
        "l = l.casefold()\n",
        "\n",
        "if l == 'a' or l == 'e' or l == 'i' or l == 'o' or l == 'u':\n",
        "  print(f'{l} é uma vogal')\n",
        "else:\n",
        "  print(f'{l} não é uma vogal')"
      ],
      "metadata": {
        "colab": {
          "base_uri": "https://localhost:8080/"
        },
        "id": "Dtu4GSI2XbGJ",
        "outputId": "a209a27b-8dca-462d-fb94-536c6059d5f6"
      },
      "execution_count": null,
      "outputs": [
        {
          "output_type": "stream",
          "name": "stdout",
          "text": [
            "Digite uma letra: U\n",
            "u é uma vogal\n"
          ]
        }
      ]
    },
    {
      "cell_type": "code",
      "source": [
        "# Ex 8\n",
        "nota1 = float(input('Informe a primeira nota: '))\n",
        "nota2 = float(input('Informe a segunda nota: '))\n",
        "nota3 = float(input('Informe a terceira nota: '))\n",
        "media = (nota1 + nota2 + nota3) / 3\n",
        "if media >= 7:\n",
        "  print(f'Aprovado com média {media:.2f}')\n",
        "else:\n",
        "  print(f'Reprovado com média {media:.2f}')"
      ],
      "metadata": {
        "colab": {
          "base_uri": "https://localhost:8080/"
        },
        "id": "YRgVg-ApZ67U",
        "outputId": "0aba233b-4b37-4f3b-eea6-5c3bc85aacf9"
      },
      "execution_count": null,
      "outputs": [
        {
          "output_type": "stream",
          "name": "stdout",
          "text": [
            "Informe a primeira nota: 6\n",
            "Informe a segunda nota: 5\n",
            "Informe a terceira nota: 4\n",
            "Reprovado com média 5.00\n"
          ]
        }
      ]
    },
    {
      "cell_type": "code",
      "source": [
        "# Ex 9\n",
        "l1 = float(input('Informe o comprimento do 1º lado: '))\n",
        "l2 = float(input('Informe o comprimento do 2º lado: '))\n",
        "l3 = float(input('Informe o comprimento do 3º lado: '))\n",
        "\n",
        "if l1 < (l2 + l3) and l2 < (l1 + l3) and l3 < (l2 + l1):\n",
        "  tri = True\n",
        "else:\n",
        "  tri = False\n",
        "\n",
        "if tri == True:\n",
        "  print('A medidas informadas formam um triangulo')\n",
        "else:\n",
        "  print('''A medidas informadas não formam um triangulo, por favor digite\n",
        "  medidas que formem um triângulo, lembrando que para que exista um triângulo\n",
        "  a medida de um lado qualquer deve ser menor que a soma das medidas dos outros\n",
        "  dois lados informado''')\n",
        "\n",
        "# Código para caso as medidas formem um triangulo,faça sua classificação\n",
        "if tri == True:\n",
        "  if l1 == l2 and l2 == l3:\n",
        "    print('O triângulo é equilátero, tem três lados iguais.')\n",
        "\n",
        "  elif (l1 == l2 or l1 == l3 or l2 == l3): # and (l1 != l2 or l1 != l3 or l2 != l3): essa condição seria necessária caso não houvesse outra condicação antes dela que pegasse o caso de todos os lados iguais\n",
        "    print('O triângulo é isósceles, tem dois lados iguais..')\n",
        "\n",
        "  else:\n",
        "    print('O triângulo é escaleno todos os lados diferentes.')\n",
        "else:\n",
        "  pass"
      ],
      "metadata": {
        "colab": {
          "base_uri": "https://localhost:8080/"
        },
        "id": "zJiKwfnxa5Wo",
        "outputId": "a88c0d58-825e-441f-9296-e026cdd3f3b2"
      },
      "execution_count": null,
      "outputs": [
        {
          "output_type": "stream",
          "name": "stdout",
          "text": [
            "Informe o comprimento do 1º lado: 3\n",
            "Informe o comprimento do 2º lado: 4\n",
            "Informe o comprimento do 3º lado: 5\n",
            "A medidas informadas formam um triangulo\n",
            "O triângulo é escaleno todos os lados diferentes.\n"
          ]
        }
      ]
    },
    {
      "cell_type": "code",
      "source": [
        "# Ex 10\n",
        "age = int(input('Informe a sua idade em anos inteiros: '))\n",
        "if 0 <= age <= 12: #( se 0 for menor ou igual a age e age for menor ou igual a 12)\n",
        "  print('criança')\n",
        "elif 13 <= age <= 17:\n",
        "  print('adolescente')\n",
        "elif 18 <= age <= 59:\n",
        "  print('adulto')\n",
        "else:\n",
        "  print('idoso')"
      ],
      "metadata": {
        "colab": {
          "base_uri": "https://localhost:8080/"
        },
        "id": "h0gYUeVO2Wq9",
        "outputId": "78aa4751-81c7-4ad0-fbf5-473898770405"
      },
      "execution_count": null,
      "outputs": [
        {
          "output_type": "stream",
          "name": "stdout",
          "text": [
            "Informe a sua idade em anos inteiros: 63\n",
            "idoso\n"
          ]
        }
      ]
    },
    {
      "cell_type": "code",
      "source": [
        "# EX 10\n",
        "age = int(input('Informe a sua idade em anos inteiros: '))\n",
        "if age <= 12: #( se 0 for menor ou igual a age e age for menor ou igual a 12)\n",
        "  print('criança')\n",
        "elif age <= 17:\n",
        "  print('adolescente')\n",
        "elif age <= 59:\n",
        "  print('adulto')\n",
        "else:\n",
        "  print('idoso')"
      ],
      "metadata": {
        "colab": {
          "base_uri": "https://localhost:8080/"
        },
        "id": "VaaB5u0X4xsn",
        "outputId": "dc6d99c5-0e6c-4b93-aff0-b8f6295ddcb7"
      },
      "execution_count": null,
      "outputs": [
        {
          "output_type": "stream",
          "name": "stdout",
          "text": [
            "Informe a sua idade em anos inteiros: 63\n",
            "idoso\n"
          ]
        }
      ]
    },
    {
      "cell_type": "markdown",
      "source": [
        "Estruturas de dados em Python - parte 1 Listas"
      ],
      "metadata": {
        "id": "csnG2gPr5ulm"
      }
    },
    {
      "cell_type": "code",
      "source": [
        "# Lista é uma estrutura que pode armazenar diversos valores sobre um determinado atributo\n",
        "lista_vazia = []\n",
        "noivo = ['Zé','Mané','Ana','Fran','João','Franz']\n",
        "print(f'Convidados do noivo - {noivo}')\n",
        "idades = [41, 47, 46, 28, 17, 50]\n",
        "print(f'Idades dos convidados do noivo {idades}')\n",
        "massas = [86, 74, 52, 47, 90, 110]\n",
        "print(f'Massas dos convidados do noivo {massas}')\n",
        "alturas = [1.68, 1.74, 1.65, 1.65, 1.80, 1.97]\n",
        "print(f'Alturas (em metros) dos convidados do noivo {alturas}')"
      ],
      "metadata": {
        "colab": {
          "base_uri": "https://localhost:8080/"
        },
        "id": "m2rMAiDg5uCO",
        "outputId": "80b0a786-28ee-4071-f8c4-ee1c43f27d2b"
      },
      "execution_count": null,
      "outputs": [
        {
          "output_type": "stream",
          "name": "stdout",
          "text": [
            "Convidados do noivo - ['Zé', 'Mané', 'Ana', 'Fran', 'João', 'Franz']\n",
            "Idades dos convidados do noivo [41, 47, 46, 28, 17, 50]\n",
            "Massas dos convidados do noivo [86, 74, 52, 47, 90, 110]\n",
            "Alturas (em metros) dos convidados do noivo [1.68, 1.74, 1.65, 1.65, 1.8, 1.97]\n"
          ]
        }
      ]
    },
    {
      "cell_type": "code",
      "source": [
        "print(f'Idades dos convidados do noivo {idades}')"
      ],
      "metadata": {
        "colab": {
          "base_uri": "https://localhost:8080/"
        },
        "id": "jA0QPqn_Gzh3",
        "outputId": "c5a9e0d0-de45-4558-aeac-76ea438a3f0a"
      },
      "execution_count": null,
      "outputs": [
        {
          "output_type": "stream",
          "name": "stdout",
          "text": [
            "Idades dos convidados do noivo [41, 47, 46, 28, 17, 50]\n"
          ]
        }
      ]
    },
    {
      "cell_type": "code",
      "source": [
        "# Acessando um elemento específico da lista a partir do seu índice\n",
        "print(f'A convidada de honra é {noivo[3]}')\n",
        "# Criar uma sublista com apenas os os três primeiros elementos da lita noivo\n",
        "sublista = noivo[:3]\n",
        "print(sublista)\n",
        "p_u = [noivo[0], noivo[-1]]\n",
        "print(f'O primeiro convidado é {p_u[0]} e o último convidado é {p_u[-1]}')\n",
        "print(f'{noivo}')"
      ],
      "metadata": {
        "colab": {
          "base_uri": "https://localhost:8080/"
        },
        "id": "OSOe7qYgFS0R",
        "outputId": "f7fb3f4d-481d-4515-8918-a2685a2a9366"
      },
      "execution_count": null,
      "outputs": [
        {
          "output_type": "stream",
          "name": "stdout",
          "text": [
            "A convidada de honra é Fran\n",
            "['Zé', 'Mané', 'Ana']\n",
            "O primeiro convidado é Zé e o último convidado é Franz\n",
            "['Zé', 'Mané', 'Ana', 'Fran', 'João', 'Franz']\n"
          ]
        }
      ]
    },
    {
      "cell_type": "code",
      "source": [
        "# Método index(valor procurado, índice de ínicio da procura, e índice fim da procura) por definição se não for oferecido o índice de ínicio e fim será procurado na lista toda\n",
        "id = noivo.index('Fran')"
      ],
      "metadata": {
        "id": "8LUzFldzQOld"
      },
      "execution_count": null,
      "outputs": []
    },
    {
      "cell_type": "code",
      "source": [
        "# Qual é o imc da convidada Fran\n",
        "print(f'O IMC da Fran é {(massas[id]/alturas[id]**2):.2f}')"
      ],
      "metadata": {
        "colab": {
          "base_uri": "https://localhost:8080/"
        },
        "id": "xBB3JnbuTUR7",
        "outputId": "77457714-4e89-4846-bbf6-7464276155e5"
      },
      "execution_count": null,
      "outputs": [
        {
          "output_type": "stream",
          "name": "stdout",
          "text": [
            "O IMC da Fran é 17.26\n"
          ]
        }
      ]
    },
    {
      "cell_type": "markdown",
      "source": [
        "Desafio 1':\n",
        "Crie um programa que receba do usuário um nome e caso esse nome\n",
        "esteja na lista guarde seu índice em uma variável e a utilize para buscar massa e altura correspondente, bem como calcular seu imc e após tudo isso informar o usuário, caso o nome não esteja na lista retorne uma mensagem informando o usuário"
      ],
      "metadata": {
        "id": "XicPQBxKbsQc"
      }
    },
    {
      "cell_type": "code",
      "source": [
        "idades = [41, 47, 46, 28, 17, 50]\n",
        "massas = [86, 74, 52, 47, 90, 110]\n",
        "alturas = [1.68, 1.74, 1.65, 1.65, 1.80, 1.97]\n",
        "noivo = ['Zé','Mané','Ana','Fran','João','Franz'] # Cria o banco de dados com os nomes dos convidados do noivo\n",
        "nome = input('Informe o nome que deseja consultar: ') #recebendo o nome do usuário\n",
        "nome = nome.capitalize() #Deixo o nome que o usuário digitou com a primeira letra em caixa alta e as demais em caixa baixa\n",
        "if nome in noivo: # se o nome que o usuário digitou estiver no banco de dados faça algo\n",
        "  id2 = noivo.index(nome) # recebendo o argumento nome e procurando o seu índice já sabendo que ele está na lista exatmente com a mesma grafia\n",
        "  imc = massas[id2]/alturas[id2]**2 # calculando o imc já sabendo a posição que deve busta em cada lista (massas e alturas)\n",
        "  print(f'{nome} tem {massas[id2]} kg, {alturas[id2]} metros e seu imc é: {imc:.1f}') # Mostrando o nome digitado e seus respectivos massa, altura e imc\n",
        "else:\n",
        "  print(f'Desculpe, {nome} não está na lista, por favor reinicie o programa para consultar outro nome')"
      ],
      "metadata": {
        "colab": {
          "base_uri": "https://localhost:8080/"
        },
        "id": "WgvfN5DMadES",
        "outputId": "328e5af0-91ab-478c-a8c5-291ba5af0a1b"
      },
      "execution_count": null,
      "outputs": [
        {
          "output_type": "stream",
          "name": "stdout",
          "text": [
            "Informe o nome que deseja consultar: Ze\n",
            "Desculpe, Ze não está na lista, por favor reinicie o programa para consultar outro nome\n"
          ]
        }
      ]
    },
    {
      "cell_type": "code",
      "source": [
        "d = []"
      ],
      "metadata": {
        "id": "XiHundBgpLnI"
      },
      "execution_count": null,
      "outputs": []
    },
    {
      "cell_type": "code",
      "source": [
        "d.append(22)"
      ],
      "metadata": {
        "id": "EZmu1-2apPyr"
      },
      "execution_count": null,
      "outputs": []
    },
    {
      "cell_type": "code",
      "source": [
        "print(d)"
      ],
      "metadata": {
        "colab": {
          "base_uri": "https://localhost:8080/"
        },
        "id": "qvKAPPzepUkw",
        "outputId": "af05f63c-e025-4d32-db61-b12f3fc0528f"
      },
      "execution_count": null,
      "outputs": [
        {
          "output_type": "stream",
          "name": "stdout",
          "text": [
            "[22, 22, 22, 22, 22]\n"
          ]
        }
      ]
    },
    {
      "cell_type": "code",
      "source": [
        "# Adicionando elementos em uma lista qualquer com o método append() por padrão este método insero o valor desejado em uma lista existente na última posição\n",
        "lista_vazia = [] # cria uma lista vazia com o nome lista vazia e apaga todos os elementos de qualquer objeto com o mesmo nome\n",
        "print(lista_vazia) # imprime uma lista vazia que já existe\n",
        "lista_vazia.append('Joana') # adiciona Joana na última posição de uma lista que já exista\n",
        "lista_vazia.append('Douglas')\n",
        "lista_vazia.append('Eduardo')\n",
        "lista_vazia.append('Ester')\n",
        "lista_vazia.append('Daniela')\n",
        "lista_vazia.append('Pedro')\n",
        "lista_vazia.append('Maria')\n",
        "print(lista_vazia) # imprime o status atual da lista vazia\n",
        "fam = lista_vazia\n",
        "print(lista_vazia)\n",
        "print(fam)"
      ],
      "metadata": {
        "colab": {
          "base_uri": "https://localhost:8080/"
        },
        "id": "z3w9_XDSldDj",
        "outputId": "dd2c957c-2238-4c2b-c79c-033c48cd4e8f"
      },
      "execution_count": null,
      "outputs": [
        {
          "output_type": "stream",
          "name": "stdout",
          "text": [
            "[]\n",
            "['Joana', 'Douglas', 'Eduardo', 'Ester', 'Daniela', 'Pedro', 'Maria']\n",
            "['Joana', 'Douglas', 'Eduardo', 'Ester', 'Daniela', 'Pedro', 'Maria']\n",
            "['Joana', 'Douglas', 'Eduardo', 'Ester', 'Daniela', 'Pedro', 'Maria']\n"
          ]
        }
      ]
    },
    {
      "cell_type": "code",
      "source": [
        "fam.insert(3, 'Tobias')\n",
        "print(fam)"
      ],
      "metadata": {
        "colab": {
          "base_uri": "https://localhost:8080/"
        },
        "id": "SKS7kZL6pF-_",
        "outputId": "735be291-1f7e-4651-fdb8-0cfa8ff77f11"
      },
      "execution_count": null,
      "outputs": [
        {
          "output_type": "stream",
          "name": "stdout",
          "text": [
            "['Joana', 'Douglas', 'Eduardo', 'Tobias', 'Ester', 'Daniela', 'Pedro', 'Maria']\n"
          ]
        }
      ]
    },
    {
      "cell_type": "code",
      "source": [
        "fam[3] = 'Raimundo' # Atribuição direta insere um novo elemento substituindo o anterior se houver\n",
        "print(fam)"
      ],
      "metadata": {
        "colab": {
          "base_uri": "https://localhost:8080/"
        },
        "id": "UjUGQnyprhHd",
        "outputId": "a58c5700-bdda-4553-dcda-04c35e19ce4d"
      },
      "execution_count": null,
      "outputs": [
        {
          "output_type": "stream",
          "name": "stdout",
          "text": [
            "['Joana', 'Douglas', 'Eduardo', 'Raimundo', 'Ester', 'Daniela', 'Pedro', 'Maria']\n"
          ]
        }
      ]
    },
    {
      "cell_type": "code",
      "source": [
        "# Excluindo elementos de uma lista\n",
        "fam.pop() # método que exclui pelo índice, por padrão exclui o último elemento se não informarmos o índice\n",
        "print(fam)"
      ],
      "metadata": {
        "colab": {
          "base_uri": "https://localhost:8080/"
        },
        "id": "Hv2i8LiHswt9",
        "outputId": "dd7b9985-ce5a-41a1-83c5-d4fc17ce68b8"
      },
      "execution_count": null,
      "outputs": [
        {
          "output_type": "stream",
          "name": "stdout",
          "text": [
            "['Joana', 'Douglas', 'Eduardo', 'Raimundo', 'Ester', 'Daniela', 'Pedro']\n"
          ]
        }
      ]
    },
    {
      "cell_type": "code",
      "source": [
        "# Excluir Joana da lista fam pelo método pop\n",
        "fam.pop(0)\n",
        "print(fam)"
      ],
      "metadata": {
        "colab": {
          "base_uri": "https://localhost:8080/"
        },
        "id": "tcBtY6MytfJF",
        "outputId": "36c48768-b0b6-4f0d-e681-55823945d32b"
      },
      "execution_count": null,
      "outputs": [
        {
          "output_type": "stream",
          "name": "stdout",
          "text": [
            "['Douglas', 'Eduardo', 'Raimundo', 'Ester', 'Daniela', 'Pedro']\n"
          ]
        }
      ]
    },
    {
      "cell_type": "code",
      "source": [
        "# Excluir raimundo da lista fam pelo método remove\n",
        "fam.remove('Raimundo')\n",
        "print(fam)"
      ],
      "metadata": {
        "colab": {
          "base_uri": "https://localhost:8080/"
        },
        "id": "zjifDWGjtuDv",
        "outputId": "d7b9c216-0b01-48bc-ffb0-1180d28e8695"
      },
      "execution_count": null,
      "outputs": [
        {
          "output_type": "stream",
          "name": "stdout",
          "text": [
            "['Douglas', 'Eduardo', 'Ester', 'Daniela', 'Pedro']\n"
          ]
        }
      ]
    }
  ]
}